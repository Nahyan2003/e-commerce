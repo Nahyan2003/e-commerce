{
 "cells": [
  {
   "cell_type": "markdown",
   "id": "d18a53cd",
   "metadata": {},
   "source": [
    "# 🛋️ E-commerce Furniture Dataset Project\n",
    "This notebook analyzes and models sales data from an online furniture dataset."
   ]
  },
  {
   "cell_type": "code",
   "execution_count": null,
   "id": "88fdcaa6",
   "metadata": {},
   "outputs": [],
   "source": [
    "# Import libraries\n",
    "import pandas as pd\n",
    "import matplotlib.pyplot as plt\n",
    "import seaborn as sns\n",
    "from sklearn.model_selection import train_test_split\n",
    "from sklearn.linear_model import LinearRegression\n",
    "from sklearn.ensemble import RandomForestRegressor\n",
    "from sklearn.metrics import mean_squared_error, r2_score\n",
    "from sklearn.preprocessing import LabelEncoder\n"
   ]
  },
  {
   "cell_type": "code",
   "execution_count": null,
   "id": "627508b7",
   "metadata": {},
   "outputs": [],
   "source": [
    "# Load dataset\n",
    "df = pd.read_csv('ecommerce_furniture_dataset.csv')\n",
    "\n",
    "# Show first few rows and dataset shape\n",
    "df.head(), df.shape\n"
   ]
  },
  {
   "cell_type": "code",
   "execution_count": null,
   "id": "bc6dfd20",
   "metadata": {},
   "outputs": [],
   "source": [
    "# Check missing values\n",
    "df.isnull().sum()\n"
   ]
  },
  {
   "cell_type": "code",
   "execution_count": null,
   "id": "8d74c3a8",
   "metadata": {},
   "outputs": [],
   "source": [
    "# Drop rows with missing values\n",
    "df = df.dropna()\n",
    "df.shape\n"
   ]
  },
  {
   "cell_type": "code",
   "execution_count": null,
   "id": "8648eb2a",
   "metadata": {},
   "outputs": [],
   "source": [
    "# Clean price columns: remove $ sign and convert to float\n",
    "df['price'] = df['price'].replace('[\\$,]', '', regex=True).astype(float)\n",
    "df['originalPrice'] = df['originalPrice'].replace('[\\$,]', '', regex=True).astype(float)\n",
    "\n",
    "# Create discount percentage feature\n",
    "df['discount_percent'] = ((df['originalPrice'] - df['price']) / df['originalPrice']) * 100\n",
    "\n",
    "# Encode tagText column\n",
    "le = LabelEncoder()\n",
    "df['tagText_encoded'] = le.fit_transform(df['tagText'])\n",
    "\n",
    "df.head()\n"
   ]
  },
  {
   "cell_type": "code",
   "execution_count": null,
   "id": "46185cc3",
   "metadata": {},
   "outputs": [],
   "source": [
    "# Scatter plot of discount vs sold\n",
    "plt.figure(figsize=(8,5))\n",
    "sns.scatterplot(x='discount_percent', y='sold', data=df)\n",
    "plt.title('Discount % vs Items Sold')\n",
    "plt.xlabel('Discount Percentage')\n",
    "plt.ylabel('Items Sold')\n",
    "plt.show()\n"
   ]
  },
  {
   "cell_type": "code",
   "execution_count": null,
   "id": "b97521f8",
   "metadata": {},
   "outputs": [],
   "source": [
    "# Select features and target\n",
    "X = df[['price', 'discount_percent', 'tagText_encoded']]\n",
    "y = df['sold']\n",
    "\n",
    "# Split into train/test sets\n",
    "X_train, X_test, y_train, y_test = train_test_split(X, y, test_size=0.2, random_state=42)\n"
   ]
  },
  {
   "cell_type": "code",
   "execution_count": null,
   "id": "572d16a7",
   "metadata": {},
   "outputs": [],
   "source": [
    "# Train Linear Regression model\n",
    "lr_model = LinearRegression()\n",
    "lr_model.fit(X_train, y_train)\n",
    "\n",
    "# Predict and evaluate\n",
    "y_pred_lr = lr_model.predict(X_test)\n",
    "mse_lr = mean_squared_error(y_test, y_pred_lr)\n",
    "r2_lr = r2_score(y_test, y_pred_lr)\n",
    "\n",
    "print(\"Linear Regression Results:\")\n",
    "print(f\"MSE: {mse_lr:.2f}\")\n",
    "print(f\"R2 Score: {r2_lr:.2f}\")\n"
   ]
  },
  {
   "cell_type": "code",
   "execution_count": null,
   "id": "a4c86d3b",
   "metadata": {},
   "outputs": [],
   "source": [
    "# Train Random Forest model\n",
    "rf_model = RandomForestRegressor(n_estimators=100, random_state=42)\n",
    "rf_model.fit(X_train, y_train)\n",
    "\n",
    "# Predict and evaluate\n",
    "y_pred_rf = rf_model.predict(X_test)\n",
    "mse_rf = mean_squared_error(y_test, y_pred_rf)\n",
    "r2_rf = r2_score(y_test, y_pred_rf)\n",
    "\n",
    "print(\"Random Forest Results:\")\n",
    "print(f\"MSE: {mse_rf:.2f}\")\n",
    "print(f\"R2 Score: {r2_rf:.2f}\")\n"
   ]
  }
 ],
 "metadata": {},
 "nbformat": 4,
 "nbformat_minor": 5
}
